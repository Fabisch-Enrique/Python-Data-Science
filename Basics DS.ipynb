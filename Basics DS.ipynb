{
 "cells": [
  {
   "cell_type": "code",
   "execution_count": 6,
   "id": "d036040b",
   "metadata": {},
   "outputs": [],
   "source": [
    "def countdog(str):\n",
    "    count = 0\n",
    "    for word in str.lower().split():\n",
    "        if word == 'dog':\n",
    "            count += 1\n",
    "    return count\n",
    "    \n",
    "#COUNT HELPS YOU MOVE THROUGH EAACH WORD OF THE STRING"
   ]
  },
  {
   "cell_type": "code",
   "execution_count": 13,
   "id": "8a84f3d2",
   "metadata": {},
   "outputs": [
    {
     "data": {
      "text/plain": [
       "2"
      ]
     },
     "execution_count": 13,
     "metadata": {},
     "output_type": "execute_result"
    }
   ],
   "source": [
    "countdog('this Dog runs faster than the other dog')"
   ]
  },
  {
   "cell_type": "code",
   "execution_count": 15,
   "id": "8ef68ad6",
   "metadata": {},
   "outputs": [
    {
     "data": {
      "text/plain": [
       "['soup', 'salad']"
      ]
     },
     "execution_count": 15,
     "metadata": {},
     "output_type": "execute_result"
    }
   ],
   "source": [
    "seq = ['soup','dog','salad','cat','goat']\n",
    "list(filter(lambda word : word[0] == 's', seq))"
   ]
  },
  {
   "cell_type": "code",
   "execution_count": 16,
   "id": "75932bb4",
   "metadata": {},
   "outputs": [
    {
     "data": {
      "text/plain": [
       "['soup', 'dog', 'salad', 'cat', 'goat']"
      ]
     },
     "execution_count": 16,
     "metadata": {},
     "output_type": "execute_result"
    }
   ],
   "source": [
    "seq"
   ]
  }
 ],
 "metadata": {
  "kernelspec": {
   "display_name": "Python 3 (ipykernel)",
   "language": "python",
   "name": "python3"
  },
  "language_info": {
   "codemirror_mode": {
    "name": "ipython",
    "version": 3
   },
   "file_extension": ".py",
   "mimetype": "text/x-python",
   "name": "python",
   "nbconvert_exporter": "python",
   "pygments_lexer": "ipython3",
   "version": "3.8.12"
  }
 },
 "nbformat": 4,
 "nbformat_minor": 5
}
